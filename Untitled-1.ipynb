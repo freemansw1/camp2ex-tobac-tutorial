{
 "cells": [
  {
   "cell_type": "code",
   "execution_count": null,
   "metadata": {},
   "outputs": [],
   "source": []
  }
 ],
 "metadata": {
  "kernelspec": {
   "display_name": "Python 3.9.7 ('tobac_dev')",
   "language": "python",
   "name": "python3"
  },
  "language_info": {
   "name": "python",
   "version": "3.9.7"
  },
  "orig_nbformat": 4,
  "vscode": {
   "interpreter": {
    "hash": "08f370ac9b6db50fd6deeaac0e9a613d6f255b8ce8d2b0c6dc5804cc4a66e9e8"
   }
  }
 },
 "nbformat": 4,
 "nbformat_minor": 2
}
